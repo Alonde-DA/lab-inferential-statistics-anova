{
 "cells": [
  {
   "cell_type": "code",
   "execution_count": 13,
   "id": "0064fa87",
   "metadata": {},
   "outputs": [],
   "source": [
    "import pandas as pd\n",
    "import numpy as np\n",
    "import scipy.stats as st\n",
    "import matplotlib.pyplot as plt\n",
    "import seaborn as sns\n",
    "import warnings\n",
    "warnings.filterwarnings('ignore')\n",
    "import os\n",
    "from statsmodels.formula.api import ols"
   ]
  },
  {
   "cell_type": "code",
   "execution_count": 14,
   "id": "371c97ee",
   "metadata": {},
   "outputs": [],
   "source": [
    "data = pd.read_excel(r'C:\\Users\\a_del\\Downloads\\anova_lab_data.xlsx')"
   ]
  },
  {
   "cell_type": "code",
   "execution_count": 15,
   "id": "8fb34a55",
   "metadata": {},
   "outputs": [],
   "source": [
    "#PART-1-In this activity, we will look at another example. Your task is to understand the problem and write down all the steps to set up ANOVA. After the next lesson, we will ask you to solve this problem using Python. \n",
    "#Here are the steps that you would need to work on: - Null hypothesis - Alternate hypothesis - Level of significance - Test statistic - P-value - F table\n",
    "\n",
    "#Context\n",
    "#Suppose you are working as an analyst in a microprocessor chip manufacturing plant. \n",
    "#You have been given the task of analyzing a plasma etching process with respect to changing Power (in Watts) of the plasma beam. \n",
    "#Data was collected and provided to you to conduct statistical analysis and check if changing the power of the plasma beam has any effect on the etching rate by the machine. \n",
    "#You will conduct ANOVA and check if there is any difference in the mean etching rate for different levels of power. \n",
    "#You can find the data anova_lab_data.xlsx file in the files_for_lab folder\n",
    "\n",
    "#State the null hypothesis\n",
    "#State the alternate hypothesis\n",
    "#What is the significance level\n",
    "#What are the degrees of freedom of model, error terms, and total DoF\n",
    "#Data was collected randomly and provided to you in the table as shown: link to the image - Data"
   ]
  },
  {
   "cell_type": "code",
   "execution_count": 16,
   "id": "31ca2caa",
   "metadata": {},
   "outputs": [
    {
     "data": {
      "text/html": [
       "<div>\n",
       "<style scoped>\n",
       "    .dataframe tbody tr th:only-of-type {\n",
       "        vertical-align: middle;\n",
       "    }\n",
       "\n",
       "    .dataframe tbody tr th {\n",
       "        vertical-align: top;\n",
       "    }\n",
       "\n",
       "    .dataframe thead th {\n",
       "        text-align: right;\n",
       "    }\n",
       "</style>\n",
       "<table border=\"1\" class=\"dataframe\">\n",
       "  <thead>\n",
       "    <tr style=\"text-align: right;\">\n",
       "      <th></th>\n",
       "      <th>Power</th>\n",
       "      <th>Etching Rate</th>\n",
       "    </tr>\n",
       "  </thead>\n",
       "  <tbody>\n",
       "    <tr>\n",
       "      <th>0</th>\n",
       "      <td>160 W</td>\n",
       "      <td>5.43</td>\n",
       "    </tr>\n",
       "    <tr>\n",
       "      <th>1</th>\n",
       "      <td>180 W</td>\n",
       "      <td>6.24</td>\n",
       "    </tr>\n",
       "    <tr>\n",
       "      <th>2</th>\n",
       "      <td>200 W</td>\n",
       "      <td>8.79</td>\n",
       "    </tr>\n",
       "    <tr>\n",
       "      <th>3</th>\n",
       "      <td>160 W</td>\n",
       "      <td>5.71</td>\n",
       "    </tr>\n",
       "    <tr>\n",
       "      <th>4</th>\n",
       "      <td>180 W</td>\n",
       "      <td>6.71</td>\n",
       "    </tr>\n",
       "    <tr>\n",
       "      <th>5</th>\n",
       "      <td>200 W</td>\n",
       "      <td>9.20</td>\n",
       "    </tr>\n",
       "    <tr>\n",
       "      <th>6</th>\n",
       "      <td>160 W</td>\n",
       "      <td>6.22</td>\n",
       "    </tr>\n",
       "    <tr>\n",
       "      <th>7</th>\n",
       "      <td>180 W</td>\n",
       "      <td>5.98</td>\n",
       "    </tr>\n",
       "    <tr>\n",
       "      <th>8</th>\n",
       "      <td>200 W</td>\n",
       "      <td>7.90</td>\n",
       "    </tr>\n",
       "    <tr>\n",
       "      <th>9</th>\n",
       "      <td>160 W</td>\n",
       "      <td>6.01</td>\n",
       "    </tr>\n",
       "    <tr>\n",
       "      <th>10</th>\n",
       "      <td>180 W</td>\n",
       "      <td>5.66</td>\n",
       "    </tr>\n",
       "    <tr>\n",
       "      <th>11</th>\n",
       "      <td>200 W</td>\n",
       "      <td>8.15</td>\n",
       "    </tr>\n",
       "    <tr>\n",
       "      <th>12</th>\n",
       "      <td>160 W</td>\n",
       "      <td>5.59</td>\n",
       "    </tr>\n",
       "    <tr>\n",
       "      <th>13</th>\n",
       "      <td>180 W</td>\n",
       "      <td>6.60</td>\n",
       "    </tr>\n",
       "    <tr>\n",
       "      <th>14</th>\n",
       "      <td>200 W</td>\n",
       "      <td>7.55</td>\n",
       "    </tr>\n",
       "  </tbody>\n",
       "</table>\n",
       "</div>"
      ],
      "text/plain": [
       "   Power   Etching Rate\n",
       "0   160 W          5.43\n",
       "1   180 W          6.24\n",
       "2   200 W          8.79\n",
       "3   160 W          5.71\n",
       "4   180 W          6.71\n",
       "5   200 W          9.20\n",
       "6   160 W          6.22\n",
       "7   180 W          5.98\n",
       "8   200 W          7.90\n",
       "9   160 W          6.01\n",
       "10  180 W          5.66\n",
       "11  200 W          8.15\n",
       "12  160 W          5.59\n",
       "13  180 W          6.60\n",
       "14  200 W          7.55"
      ]
     },
     "execution_count": 16,
     "metadata": {},
     "output_type": "execute_result"
    }
   ],
   "source": [
    "data"
   ]
  },
  {
   "cell_type": "code",
   "execution_count": 17,
   "id": "74f41ff8",
   "metadata": {},
   "outputs": [],
   "source": [
    "data.columns = ['power', 'etching_rate']"
   ]
  },
  {
   "cell_type": "code",
   "execution_count": 18,
   "id": "842449c8",
   "metadata": {},
   "outputs": [
    {
     "name": "stdout",
     "output_type": "stream",
     "text": [
      "<class 'pandas.core.frame.DataFrame'>\n",
      "RangeIndex: 15 entries, 0 to 14\n",
      "Data columns (total 2 columns):\n",
      " #   Column        Non-Null Count  Dtype  \n",
      "---  ------        --------------  -----  \n",
      " 0   power         15 non-null     object \n",
      " 1   etching_rate  15 non-null     float64\n",
      "dtypes: float64(1), object(1)\n",
      "memory usage: 368.0+ bytes\n"
     ]
    }
   ],
   "source": [
    "data.info()"
   ]
  },
  {
   "cell_type": "code",
   "execution_count": 19,
   "id": "87e98eb5",
   "metadata": {},
   "outputs": [
    {
     "data": {
      "text/plain": [
       "<bound method NDFrame.describe of     power  etching_rate\n",
       "0   160 W          5.43\n",
       "1   180 W          6.24\n",
       "2   200 W          8.79\n",
       "3   160 W          5.71\n",
       "4   180 W          6.71\n",
       "5   200 W          9.20\n",
       "6   160 W          6.22\n",
       "7   180 W          5.98\n",
       "8   200 W          7.90\n",
       "9   160 W          6.01\n",
       "10  180 W          5.66\n",
       "11  200 W          8.15\n",
       "12  160 W          5.59\n",
       "13  180 W          6.60\n",
       "14  200 W          7.55>"
      ]
     },
     "execution_count": 19,
     "metadata": {},
     "output_type": "execute_result"
    }
   ],
   "source": [
    "data.describe"
   ]
  },
  {
   "cell_type": "code",
   "execution_count": 20,
   "id": "e6f1f6cc",
   "metadata": {},
   "outputs": [],
   "source": [
    "#Null Hypotesis:There is not any difference in the mean of etching rate for different levels of power\n",
    "\n",
    "#Alternative hypotesis:There is difference in the mean of etching rate for different levels of power\n",
    "\n",
    "#Level of significance 0.05\n",
    "#Using ANOVA and f distribution (F-TEST)\n",
    "#data1 : k-1, k=number of groups, we have 3 groups so data=k-1 => 3-1=2\n",
    "#data2 : n-k, n=total sample size with all groups combined,\n",
    "#k=number of groups\n",
    "#So, n=15, k=3 and data2=n-k=15-3=12,\n",
    "\n",
    "#The total degrees of freedom are data=data1+data2=2+12=14"
   ]
  },
  {
   "cell_type": "code",
   "execution_count": 21,
   "id": "911ec918",
   "metadata": {},
   "outputs": [],
   "source": [
    "#Part 2-In this section, use Python to conduct ANOVA"
   ]
  },
  {
   "cell_type": "code",
   "execution_count": 23,
   "id": "da9a6d56",
   "metadata": {},
   "outputs": [
    {
     "name": "stdout",
     "output_type": "stream",
     "text": [
      "            df     sum_sq   mean_sq          F    PR(>F)\n",
      "power      2.0  18.176653  9.088327  36.878955  0.000008\n",
      "Residual  12.0   2.957240  0.246437        NaN       NaN\n"
     ]
    }
   ],
   "source": [
    "import statsmodels.api as sm\n",
    "model = ols('etching_rate ~ power',data=data).fit()\n",
    "outcome = sm.stats.anova_lm(model)\n",
    "print(outcome)"
   ]
  },
  {
   "cell_type": "code",
   "execution_count": 24,
   "id": "2c59281f",
   "metadata": {},
   "outputs": [
    {
     "data": {
      "text/html": [
       "<div>\n",
       "<style scoped>\n",
       "    .dataframe tbody tr th:only-of-type {\n",
       "        vertical-align: middle;\n",
       "    }\n",
       "\n",
       "    .dataframe tbody tr th {\n",
       "        vertical-align: top;\n",
       "    }\n",
       "\n",
       "    .dataframe thead tr th {\n",
       "        text-align: left;\n",
       "    }\n",
       "</style>\n",
       "<table border=\"1\" class=\"dataframe\">\n",
       "  <thead>\n",
       "    <tr>\n",
       "      <th></th>\n",
       "      <th colspan=\"15\" halign=\"left\">power</th>\n",
       "    </tr>\n",
       "    <tr>\n",
       "      <th>etching_rate</th>\n",
       "      <th>5.43</th>\n",
       "      <th>5.59</th>\n",
       "      <th>5.66</th>\n",
       "      <th>5.71</th>\n",
       "      <th>5.98</th>\n",
       "      <th>6.01</th>\n",
       "      <th>6.22</th>\n",
       "      <th>6.24</th>\n",
       "      <th>6.60</th>\n",
       "      <th>6.71</th>\n",
       "      <th>7.55</th>\n",
       "      <th>7.90</th>\n",
       "      <th>8.15</th>\n",
       "      <th>8.79</th>\n",
       "      <th>9.20</th>\n",
       "    </tr>\n",
       "  </thead>\n",
       "  <tbody>\n",
       "    <tr>\n",
       "      <th>count</th>\n",
       "      <td>1</td>\n",
       "      <td>1</td>\n",
       "      <td>1</td>\n",
       "      <td>1</td>\n",
       "      <td>1</td>\n",
       "      <td>1</td>\n",
       "      <td>1</td>\n",
       "      <td>1</td>\n",
       "      <td>1</td>\n",
       "      <td>1</td>\n",
       "      <td>1</td>\n",
       "      <td>1</td>\n",
       "      <td>1</td>\n",
       "      <td>1</td>\n",
       "      <td>1</td>\n",
       "    </tr>\n",
       "    <tr>\n",
       "      <th>unique</th>\n",
       "      <td>1</td>\n",
       "      <td>1</td>\n",
       "      <td>1</td>\n",
       "      <td>1</td>\n",
       "      <td>1</td>\n",
       "      <td>1</td>\n",
       "      <td>1</td>\n",
       "      <td>1</td>\n",
       "      <td>1</td>\n",
       "      <td>1</td>\n",
       "      <td>1</td>\n",
       "      <td>1</td>\n",
       "      <td>1</td>\n",
       "      <td>1</td>\n",
       "      <td>1</td>\n",
       "    </tr>\n",
       "    <tr>\n",
       "      <th>top</th>\n",
       "      <td>160 W</td>\n",
       "      <td>160 W</td>\n",
       "      <td>180 W</td>\n",
       "      <td>160 W</td>\n",
       "      <td>180 W</td>\n",
       "      <td>160 W</td>\n",
       "      <td>160 W</td>\n",
       "      <td>180 W</td>\n",
       "      <td>180 W</td>\n",
       "      <td>180 W</td>\n",
       "      <td>200 W</td>\n",
       "      <td>200 W</td>\n",
       "      <td>200 W</td>\n",
       "      <td>200 W</td>\n",
       "      <td>200 W</td>\n",
       "    </tr>\n",
       "    <tr>\n",
       "      <th>freq</th>\n",
       "      <td>1</td>\n",
       "      <td>1</td>\n",
       "      <td>1</td>\n",
       "      <td>1</td>\n",
       "      <td>1</td>\n",
       "      <td>1</td>\n",
       "      <td>1</td>\n",
       "      <td>1</td>\n",
       "      <td>1</td>\n",
       "      <td>1</td>\n",
       "      <td>1</td>\n",
       "      <td>1</td>\n",
       "      <td>1</td>\n",
       "      <td>1</td>\n",
       "      <td>1</td>\n",
       "    </tr>\n",
       "  </tbody>\n",
       "</table>\n",
       "</div>"
      ],
      "text/plain": [
       "              power                                                          \\\n",
       "etching_rate   5.43   5.59   5.66   5.71   5.98   6.01   6.22   6.24   6.60   \n",
       "count             1      1      1      1      1      1      1      1      1   \n",
       "unique            1      1      1      1      1      1      1      1      1   \n",
       "top           160 W  160 W  180 W  160 W  180 W  160 W  160 W  180 W  180 W   \n",
       "freq              1      1      1      1      1      1      1      1      1   \n",
       "\n",
       "                                                        \n",
       "etching_rate   6.71   7.55   7.90   8.15   8.79   9.20  \n",
       "count             1      1      1      1      1      1  \n",
       "unique            1      1      1      1      1      1  \n",
       "top           180 W  200 W  200 W  200 W  200 W  200 W  \n",
       "freq              1      1      1      1      1      1  "
      ]
     },
     "execution_count": 24,
     "metadata": {},
     "output_type": "execute_result"
    }
   ],
   "source": [
    "data.pivot(columns='etching_rate').describe()"
   ]
  },
  {
   "cell_type": "code",
   "execution_count": 26,
   "id": "fe796121",
   "metadata": {},
   "outputs": [
    {
     "name": "stdout",
     "output_type": "stream",
     "text": [
      "160 W Ttest_indResult(statistic=7.611403634613074, pvalue=6.237977344615716e-05)\n",
      "180 W Ttest_indResult(statistic=5.827496614588661, pvalue=0.0003926796476049085)\n",
      "200 W Ttest_indResult(statistic=0.0, pvalue=1.0)\n"
     ]
    }
   ],
   "source": [
    "from scipy.stats import ttest_ind\n",
    "\n",
    "display_a = data[data['power'] == '200 W']['etching_rate']\n",
    "\n",
    "for display in data['power'].unique():\n",
    "    display_b = data[data['power'] == display]['etching_rate']\n",
    "    print(display, ttest_ind(display_a, display_b))"
   ]
  },
  {
   "cell_type": "code",
   "execution_count": null,
   "id": "b8ef9a6f",
   "metadata": {},
   "outputs": [],
   "source": [
    "#we reject the null hypothesis, as probability of F<0.05"
   ]
  }
 ],
 "metadata": {
  "kernelspec": {
   "display_name": "Python 3 (ipykernel)",
   "language": "python",
   "name": "python3"
  },
  "language_info": {
   "codemirror_mode": {
    "name": "ipython",
    "version": 3
   },
   "file_extension": ".py",
   "mimetype": "text/x-python",
   "name": "python",
   "nbconvert_exporter": "python",
   "pygments_lexer": "ipython3",
   "version": "3.10.9"
  }
 },
 "nbformat": 4,
 "nbformat_minor": 5
}
